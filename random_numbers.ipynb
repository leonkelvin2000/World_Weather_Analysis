{
 "cells": [
  {
   "cell_type": "code",
   "execution_count": 1,
   "id": "86833f5c",
   "metadata": {},
   "outputs": [],
   "source": [
    "import random"
   ]
  },
  {
   "cell_type": "code",
   "execution_count": 2,
   "id": "95131fb3",
   "metadata": {},
   "outputs": [
    {
     "data": {
      "text/plain": [
       "-65"
      ]
     },
     "execution_count": 2,
     "metadata": {},
     "output_type": "execute_result"
    }
   ],
   "source": [
    "random.randint(-90,90)"
   ]
  },
  {
   "cell_type": "code",
   "execution_count": 3,
   "id": "547d4ea5",
   "metadata": {},
   "outputs": [
    {
     "data": {
      "text/plain": [
       "0.6836658842461465"
      ]
     },
     "execution_count": 3,
     "metadata": {},
     "output_type": "execute_result"
    }
   ],
   "source": [
    "random.random()"
   ]
  },
  {
   "cell_type": "code",
   "execution_count": 4,
   "id": "8437bcbf",
   "metadata": {},
   "outputs": [],
   "source": [
    "random_number = random.randint(-90,89) + random.random()"
   ]
  },
  {
   "cell_type": "code",
   "execution_count": 5,
   "id": "2f0b3bb8",
   "metadata": {},
   "outputs": [
    {
     "data": {
      "text/plain": [
       "41.898132518397944"
      ]
     },
     "execution_count": 5,
     "metadata": {},
     "output_type": "execute_result"
    }
   ],
   "source": [
    "random_number"
   ]
  },
  {
   "cell_type": "code",
   "execution_count": 7,
   "id": "f3372ea8",
   "metadata": {},
   "outputs": [
    {
     "name": "stdout",
     "output_type": "stream",
     "text": [
      "[-6.448402855671236, -46.04172974733773, -52.29850942236892, 71.93923475690931, 61.01201312922763, 19.593252800964947, -7.577301103605319, 38.62040592332696, 18.61580042464307, -44.995049784746946]\n"
     ]
    }
   ],
   "source": [
    "x = 1 \n",
    "latitudes = []\n",
    "while x< 11:\n",
    "    random_lat = random.randint(-90,89) + random.random()\n",
    "    latitudes.append(random_lat)\n",
    "    x+=1\n",
    "print(latitudes)"
   ]
  },
  {
   "cell_type": "code",
   "execution_count": 8,
   "id": "e4edba6d",
   "metadata": {},
   "outputs": [
    {
     "data": {
      "text/plain": [
       "80"
      ]
     },
     "execution_count": 8,
     "metadata": {},
     "output_type": "execute_result"
    }
   ],
   "source": [
    "random.randrange(-90,90,step=1)"
   ]
  },
  {
   "cell_type": "code",
   "execution_count": 9,
   "id": "681512c6",
   "metadata": {},
   "outputs": [
    {
     "data": {
      "text/plain": [
       "6"
      ]
     },
     "execution_count": 9,
     "metadata": {},
     "output_type": "execute_result"
    }
   ],
   "source": [
    "random.randrange(-90,90,step=3)"
   ]
  },
  {
   "cell_type": "code",
   "execution_count": 11,
   "id": "8a290355",
   "metadata": {},
   "outputs": [
    {
     "data": {
      "text/plain": [
       "83.07806108242315"
      ]
     },
     "execution_count": 11,
     "metadata": {},
     "output_type": "execute_result"
    }
   ],
   "source": [
    "random.uniform(-90,90)"
   ]
  },
  {
   "cell_type": "code",
   "execution_count": 12,
   "id": "b9b01e63",
   "metadata": {},
   "outputs": [],
   "source": [
    "# import the NUmpy module\n",
    "import numpy as np"
   ]
  },
  {
   "cell_type": "code",
   "execution_count": 15,
   "id": "30498b8d",
   "metadata": {},
   "outputs": [
    {
     "data": {
      "text/plain": [
       "array([ 67.6282124 ,  24.38193633,   3.01736797, -78.31830516,\n",
       "        44.38433365,  30.24575034,  23.27982259, -25.939293  ,\n",
       "        70.86376995,  43.41162858,  84.9402835 ,  43.47250137,\n",
       "       -39.43913593, -45.69000675, -62.50352529,  37.23208244,\n",
       "        61.03656891,  31.74269044,  41.88853703, -50.13268833,\n",
       "       -16.1707248 ,   3.51193242, -59.52451215, -58.85722127,\n",
       "        22.04024447, -20.13049389,  34.41783891, -74.47013756,\n",
       "        65.79815485,  -1.80455227, -28.24215607,  51.71225049,\n",
       "       -61.5206388 ,  17.44994535, -84.99369422, -60.60248501,\n",
       "        84.46653873,  82.55355212,  51.26253499, -32.06814209,\n",
       "        27.79336227, -72.81314766, -72.05153849, -27.113241  ,\n",
       "        48.84432586,  67.41896885,  47.87818781,  -3.22211121,\n",
       "       -11.37711419, -74.40318222])"
      ]
     },
     "execution_count": 15,
     "metadata": {},
     "output_type": "execute_result"
    }
   ],
   "source": [
    "np.random.uniform(-90.000,90.000, size = 50)"
   ]
  },
  {
   "cell_type": "code",
   "execution_count": 18,
   "id": "51c372d9",
   "metadata": {},
   "outputs": [],
   "source": [
    "# Import timeit.\n",
    "import timeit"
   ]
  },
  {
   "cell_type": "code",
   "execution_count": 19,
   "id": "8bd888ed",
   "metadata": {},
   "outputs": [
    {
     "name": "stdout",
     "output_type": "stream",
     "text": [
      "20 µs ± 15.1 ns per loop (mean ± std. dev. of 7 runs, 10000 loops each)\n"
     ]
    }
   ],
   "source": [
    "%timeit np.random.uniform(-90,90,size=1500)"
   ]
  },
  {
   "cell_type": "code",
   "execution_count": 22,
   "id": "e180ac8f",
   "metadata": {},
   "outputs": [
    {
     "name": "stdout",
     "output_type": "stream",
     "text": [
      "2.33 ms ± 7.83 µs per loop (mean ± std. dev. of 7 runs, 100 loops each)\n"
     ]
    }
   ],
   "source": [
    "def latitudes(size):\n",
    "    latitudes = []\n",
    "    x=0\n",
    "    while x < (size):\n",
    "        random_lat = random.randint(-90,90) + random.random()\n",
    "        latitudes.append(random_lat)\n",
    "        x+=1\n",
    "    return latitudes\n",
    "# Call the function with 1500\n",
    "%timeit latitudes(1500)"
   ]
  },
  {
   "cell_type": "code",
   "execution_count": 27,
   "id": "2f937991",
   "metadata": {},
   "outputs": [],
   "source": [
    "# Import the dependencies\n",
    "import pandas as pd\n",
    "import matplotlib.pyplot as plt\n",
    "import numpy as np"
   ]
  },
  {
   "cell_type": "code",
   "execution_count": 35,
   "id": "32e07fc0",
   "metadata": {},
   "outputs": [
    {
     "data": {
      "text/plain": [
       "<zip at 0x7fdef26835f0>"
      ]
     },
     "execution_count": 35,
     "metadata": {},
     "output_type": "execute_result"
    }
   ],
   "source": [
    "# Create a set of random latitude and long itude combinations\n",
    "lats= np.random.uniform(low = -90.000, high = 90.000, size=1500)\n",
    "lngs= np.random.uniform(low = -180.000, high = 180.000, size=1500)\n",
    "lat_lngs = zip(lats, lngs)\n",
    "lat_lngs"
   ]
  },
  {
   "cell_type": "code",
   "execution_count": null,
   "id": "960b3f98",
   "metadata": {},
   "outputs": [],
   "source": []
  }
 ],
 "metadata": {
  "kernelspec": {
   "display_name": "PythonData",
   "language": "python",
   "name": "pythondata"
  },
  "language_info": {
   "codemirror_mode": {
    "name": "ipython",
    "version": 3
   },
   "file_extension": ".py",
   "mimetype": "text/x-python",
   "name": "python",
   "nbconvert_exporter": "python",
   "pygments_lexer": "ipython3",
   "version": "3.7.11"
  }
 },
 "nbformat": 4,
 "nbformat_minor": 5
}
